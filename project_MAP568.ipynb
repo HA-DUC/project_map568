{
 "cells": [
  {
   "cell_type": "markdown",
   "metadata": {
    "id": "rK-cqDCq5KRn"
   },
   "source": [
    "# **Projet de MAP568**\n",
    "**1, Introduction**\n",
    "\n",
    "**2 Modèle SEIR**\n",
    "\n",
    "2.1 Les compartiments\n",
    "\n",
    "2.2 L’évolution de l’épidémie\n",
    "\n",
    "$\\frac{dS}{dt}=-\\tau SI^-$\n",
    "\n",
    "$\\frac{dI^-}{dt}=\\tau S I^--\\lambda_1 I^--(\\gamma_{IR}+\\gamma_{IH}+\\gamma_{IU})I^+$\n",
    "\n",
    "$\\frac{dR^-}{dt}=\\gamma_{IR}I^--\\lambda_2 R^-$\n",
    "\n",
    "$\\frac{dR^{+^I}}{dt}=\\gamma_{IR}I^++\\lambda_2 R^-$\n",
    "\n",
    "$\\frac{dH}{dt}=\\gamma_{IH}(I^-+I^+)-(\\gamma_{HR}+\\gamma_{HD}+\\gamma_{HU})H$\n",
    "\n",
    "$\\frac{dU}{dt}=\\gamma_{IU}(I^-+I^+)+\\gamma_{HU}H-(\\gamma_{UR}+\\gamma_{UD})U$\n",
    "\n",
    "$\\frac{dR^{+^H}}{dt}=\\gamma_{HR}H+\\gamma_{UR}U$\n",
    "\n",
    "$\\frac{dD}{dt}=\\gamma_{UD}U+\\gamma_{HD}H$\n",
    "\n",
    "**2.3 Les paramètres**\n",
    "\n",
    "$\\tau(t)=\\tau_0 exp(-\\mu \\times max(t-N,0))$\n",
    "\n",
    " $p_a$: la probabilité pour un individu infecté d’être asymptomatique\n",
    "\n",
    "  $p_{IH}$ la probabilité pour un individu infecté\n",
    "symptomatique de devoir être hospitalisé (et passer en compartiment H)\n",
    "\n",
    "\n",
    "$p_{IU}$ la probabilité pour un individu infecté symptomatique de devoir être admis directement en soins intensifs (et passer en compartiment U).\n",
    "\n",
    " $N_I$ le\n",
    "nombre moyen de jours pasés dans les compartiments $I^−$ ou $I^+$.\n",
    "\n",
    "$\\gamma_{IR}=\\frac{p_a+(1-p_a)(1-p_{IH}-p_{IU})}{N_I}$\n",
    "\n",
    "$\\gamma_{IH}=\\frac{(1-p_a)p_{IH}}{N_I}$\n",
    "\n",
    "$\\gamma_{IU}=\\frac{(1-p_a)p_{IU}}{N_1}$\n",
    "\n",
    "$\\gamma_{HD}=\\frac{p_{HD}}{N_H}$\n",
    "\n",
    "$\\gamma_{HU}=\\frac{p_{HU}}{N_H}$\n",
    "\n",
    "$\\gamma_{HR}=\\frac{1-p_{HD}-p_{HU}}{N_H}$\n",
    "\n",
    "$\\gamma_{UD}=\\frac{p_{UD}}{N_U}$\n",
    "\n",
    "$\\gamma_{UR}=\\frac{1-p_{UD}}{N_U}$\n",
    "\n",
    "$\\tau_0=\\frac{R_0(\\lambda_1+\\gamma_{IR}+\\gamma_{IH}+\\gamma_{IU})}{S_0}$\n",
    "\n",
    "**3 Propagation d’incertitudes**\n",
    "\n",
    "\n",
    "3.1 Incertitudes en entrée\n",
    "\n",
    "\n",
    "3.2 Incertitudes en sortie\n",
    "\n",
    "*Question 1:*\n",
    "\n",
    "\n"
   ]
  },
  {
   "cell_type": "code",
   "execution_count": 1,
   "metadata": {
    "id": "EpIf6tZu5P4C"
   },
   "outputs": [],
   "source": [
    "import numpy as np\n",
    "import pandas as pd\n",
    "import matplotlib.pyplot as plt"
   ]
  },
  {
   "cell_type": "code",
   "execution_count": 2,
   "metadata": {
    "hide_input": false
   },
   "outputs": [],
   "source": [
    "def create_points(N):\n",
    "    \"\"\"\n",
    "    Creates a set X of N points returns a matrix of dimensions (N,15)\n",
    "    \"\"\"\n",
    "    min = np.array([0.4,0.05,0.01,0.1,0.1,0.2,8,15,10,2.9,0.01,1,10**(-4)])\n",
    "    max = np.array([0.9,0.2,0.04,0.2,0.2,0.4,12,25,20,3.4,0.08,100,10**(-3)])\n",
    "    pa,pIH,pIU,pHD,pHU,pUD,N1,NH,NU,R0,mu,I0,lambda1=np.transpose(np.random.uniform(min,max,size=(N,13)))\n",
    "    t0=np.random.choice(a=np.arange(0,31),p=None,size=N)#début épidémie\n",
    "    N=np.random.choice(a=np.arange(31,51),p=None,size=N)\n",
    "    return np.array([pa,pIH,pIU,pHD,pHU,pUD,N1,NH,NU,R0,mu,I0,lambda1,t0,N]).T\n",
    "\n",
    "def solve(X,M):\n",
    "    \"\"\"\n",
    "    résout le système d'équation pour l'ensemble de points X sur M pas de temps.\n",
    "    Renvoie les trajectoires de tous les paramètres de sortie\n",
    "    \"\"\"\n",
    "    S0=67 *10**(6)\n",
    "    lambda2 = 0\n",
    "    N = np.shape(X)[0]\n",
    "    gamma_IR=(X[:,0]+(1-X[:,0])*(1-X[:,1]-X[:,2]))/X[:,6]\n",
    "    gamma_IH=(1-X[:,0])*X[:,1]/X[:,6]\n",
    "    gamma_IU=(1-X[:,0])*X[:,2]/X[:,6]\n",
    "    gamma_HD=X[:,3]/X[:,7]\n",
    "    gamma_HU=X[:,4]/X[:,7]\n",
    "    gamma_HR=(1-X[:,3]-X[:,4])/X[:,7]\n",
    "    gamma_UD=X[:,5]/X[:,8]\n",
    "    gamma_UR=(1-X[:,5])/X[:,8]\n",
    "    tau0=X[:,9]*(X[:,12]+gamma_IR+gamma_IH+gamma_IU)/S0\n",
    "    t=np.arange(0,M)\n",
    "    tau=np.ones((N,M))\n",
    "    N_days = X[:,14]-X[:,13]\n",
    "    for i in range(N):\n",
    "        tau[i,:]=tau0[i]*np.exp(-X[:,10][i]*np.maximum(t-N_days[i],0))\n",
    "        \n",
    "    S=S0*np.ones((N,M))\n",
    "    I=np.array([X[i,11]*np.ones((N,M))[i] for i in range(N)])\n",
    "    I_plus=np.zeros((N,M))\n",
    "    R_=np.zeros((N,M))\n",
    "    R_plus=np.zeros((N,M))\n",
    "    H=np.zeros((N,M))\n",
    "    U=np.zeros((N,M))\n",
    "    R_plusH=np.zeros((N,M))\n",
    "    D=np.zeros((N,M))\n",
    "    DR=np.zeros((N,M))\n",
    "    for n in range(1,M):\n",
    "        S[:,n]=(1-tau[:,n-1]*I[:,n-1])*S[:,n-1]\n",
    "        I[:,n]=(1+tau[:,n-1]*S[:,n-1]-X[:,12]-(gamma_IR+gamma_IH+gamma_IU))*I[:,n-1]\n",
    "        I_plus[:,n]=X[:,12]*I[:,n-1]-(-1+gamma_IR+gamma_IH+gamma_IU)*I_plus[:,n-1]\n",
    "        R_[:,n]=gamma_IR*I[:,n-1]+(1-lambda2)*R_[:,n-1]\n",
    "        R_plus[:,n]=gamma_IR*I_plus[:,n-1]+R_plus[:,n-1]+lambda2*R_[:,n-1]\n",
    "        H[:,n]=gamma_IH*(I[:,n-1]+I_plus[:,n-1])-(-1+gamma_HR+gamma_HD+gamma_HU)*H[:,n-1]\n",
    "        U[:,n]=gamma_IU*(I[:,n-1]+I_plus[:,n-1])-(-1+gamma_UR+gamma_UD)*U[:,n-1]+gamma_HU*H[:,n-1]\n",
    "        R_plusH[:,n]=gamma_HR*H[:,n-1]+gamma_UR*U[:,n-1]+R_plusH[:,n-1]\n",
    "        D[:,n]=gamma_UD*U[:,n-1]+gamma_HD*H[:,n-1]+D[:,n-1]\n",
    "        DR[:,n]=(X[:,12]+gamma_IH+gamma_IU)*I[:,n-1]\n",
    "    \n",
    "    \n",
    "    return S,I,I_plus,R_,R_plus,H,U,R_plusH,D,DR\n",
    "\n",
    "def get_dates(X,U):\n",
    "    \"\"\"\n",
    "    from the set of points X and the solution variables  U \n",
    "    Returns the dates : \n",
    "    date_t0 = dates du début épidémie\n",
    "    date_N = dates de la prise d'effets des mesures\n",
    "    date_max = dates du pic de l'épidémie\n",
    "    range_date = suite des dates dans le segment [date_début,date_début + M]\n",
    "    \"\"\"\n",
    "    N = np.shape(X)[0]\n",
    "    M = np.shape(U)[1]\n",
    "    min_t0 = pd.to_datetime(\"25/01/2020\")\n",
    "    max_N = pd.to_datetime(\"15/03/2020\")\n",
    "    range_t0_N = pd.date_range(min_t0,max_N)\n",
    "    max_U = np.argmax(U,axis=1)\n",
    "    \n",
    "    date_t0 = []\n",
    "    date_N = []\n",
    "    date_max = []\n",
    "    range_dates = []\n",
    "    for i in range(N):\n",
    "        start_date =  range_t0_N[np.int(X[i,13])]\n",
    "        date_t0.append(start_date) \n",
    "        date_N.append(range_t0_N[np.int(X[i,14])])\n",
    "        range_dates.append(pd.date_range(start = start_date,periods=M,freq=\"D\"))\n",
    "        date_max.append(start_date+np.timedelta64(max_U[i],\"D\"))\n",
    "    \n",
    "    return date_t0,date_N,range_dates,date_max    "
   ]
  },
  {
   "cell_type": "code",
   "execution_count": 3,
   "metadata": {},
   "outputs": [],
   "source": [
    "N = 1000\n",
    "M = 200\n",
    "X = create_points(N)\n",
    "S,I,I_plus,R_,R_plus,H,U,R_plusH,D,DR = solve(X,M)"
   ]
  },
  {
   "cell_type": "code",
   "execution_count": 4,
   "metadata": {},
   "outputs": [],
   "source": [
    "date_t0,date_N,range_dates,date_max = get_dates(X,U)"
   ]
  },
  {
   "cell_type": "code",
   "execution_count": 5,
   "metadata": {},
   "outputs": [
    {
     "name": "stdout",
     "output_type": "stream",
     "text": [
      "Le début de l'épidémie a lieu le 2020-02-06\n",
      "Le nombre maximal de patients présents en soins intensif est  921.0  personnes et ce maximum est atteint le 2020-04-08 soit jours après le début\n"
     ]
    },
    {
     "data": {
      "image/png": "[encoded data removed]",
      "text/plain": [
       "<Figure size 1080x576 with 1 Axes>"
      ]
     },
     "metadata": {},
     "output_type": "display_data"
    }
   ],
   "source": [
    "chose_sim =832 #for plots\n",
    "start_date = date_t0[chose_sim]\n",
    "range_date = range_dates[chose_sim]\n",
    "fig = plt.figure(figsize=(15,8))\n",
    "fig =plt.plot(range_date,U[chose_sim],label =\"Nombre de personnes en soins intensifs\")\n",
    "fig= plt.title(\"U\")\n",
    "print(\"Le début de l'épidémie a lieu le\",start_date.date())\n",
    "print(\"Le nombre maximal de patients présents en soins intensif est \", np.floor(np.max(U[chose_sim])),\" personnes et ce maximum est atteint le\", date_max[chose_sim].date(), \"soit\", \"jours après le début\")"
   ]
  },
  {
   "cell_type": "markdown",
   "metadata": {
    "id": "7AMFlBp8-tkM"
   },
   "source": [
    "Question 2"
   ]
  },
  {
   "cell_type": "markdown",
   "metadata": {},
   "source": [
    "a/ Loi du Nombre maximal de patients présents en soins intensifs"
   ]
  },
  {
   "cell_type": "code",
   "execution_count": 6,
   "metadata": {
    "colab": {
     "base_uri": "https://localhost:8080/"
    },
    "id": "xHTY81JyGxrY",
    "outputId": "3a84785d-11f0-4a35-af74-83ca5177ca8d"
   },
   "outputs": [
    {
     "name": "stdout",
     "output_type": "stream",
     "text": [
      "Moyenne du nombre maximal de patients présents en soins intensifs: 20213 personnes\n"
     ]
    }
   ],
   "source": [
    "Max=np.max(U,axis=1)\n",
    "print('Moyenne du nombre maximal de patients présents en soins intensifs:',int(np.mean(Max)), 'personnes')"
   ]
  },
  {
   "cell_type": "code",
   "execution_count": 7,
   "metadata": {
    "colab": {
     "base_uri": "https://localhost:8080/",
     "height": 621
    },
    "id": "Ioit6WF0-vFo",
    "outputId": "73fcbf38-419b-4d34-b5a0-550f8a6b066a"
   },
   "outputs": [
    {
     "data": {
      "image/png": "[encoded data removed]",
      "text/plain": [
       "<Figure size 1152x720 with 1 Axes>"
      ]
     },
     "metadata": {},
     "output_type": "display_data"
    }
   ],
   "source": [
    "plt.figure(figsize=(16,10))\n",
    "plt.hist(Max,bins=40,density=True,color='C1',label='Histogramme')\n",
    "plt.xlabel(\"Les individus en soins intensifs [Personnes]\")\n",
    "plt.title('Histogramme du nombre maximal de patients présents en soins intensifs')\n",
    "plt.axvline(np.mean(Max),color='C2',label='Moyenne')\n",
    "plt.axvline(np.quantile(Max,0.1),color='C3',label='Quantiles à 10%')\n",
    "plt.axvline(np.quantile(Max,0.9),color='C4',label='Quantiles à 90%')\n",
    "plt.legend()\n",
    "plt.show()"
   ]
  },
  {
   "cell_type": "markdown",
   "metadata": {},
   "source": [
    "b/loi de la date du pic de l'épidémie"
   ]
  },
  {
   "cell_type": "code",
   "execution_count": 8,
   "metadata": {},
   "outputs": [
    {
     "name": "stdout",
     "output_type": "stream",
     "text": [
      "le pic de l'épidémie a lieu en moyenne le 2020-04-20\n"
     ]
    },
    {
     "data": {
      "image/png": "[encoded data removed]",
      "text/plain": [
       "<Figure size 1152x720 with 1 Axes>"
      ]
     },
     "metadata": {},
     "output_type": "display_data"
    }
   ],
   "source": [
    "df_date_max = pd.DataFrame(data = date_max,columns=[\"date_max\"])\n",
    "max_date_mean = df_date_max[\"date_max\"].mean()\n",
    "print(\"le pic de l'épidémie a lieu en moyenne le\",max_date_mean.date())\n",
    "q_90 = pd.to_datetime(df_date_max[\"date_max\"].quantile(.9, interpolation='nearest'))\n",
    "q_10 = pd.to_datetime(df_date_max[\"date_max\"].quantile(.1, interpolation='nearest'))\n",
    "plt.figure(figsize=(16,10))\n",
    "plt.hist(df_date_max[\"date_max\"],bins=40,density=True,color='C1',label='Histogramme')\n",
    "plt.xlabel(\"Dates du maximum de l'épidémie\")\n",
    "plt.title(\"Histogramme de la date du pic de l'épidémie\")\n",
    "plt.axvline(max_date_mean,color='C2',label='Moyenne')\n",
    "plt.axvline(q_10,color='C3',label='Quantiles à 10%')\n",
    "plt.axvline(q_90,color='C4',label='Quantiles à 90%')\n",
    "plt.legend()\n",
    "plt.show()"
   ]
  },
  {
   "cell_type": "markdown",
   "metadata": {
    "id": "Oawr8dF0Sgqd"
   },
   "source": [
    "# Analyse de sensibilité"
   ]
  },
  {
   "cell_type": "markdown",
   "metadata": {},
   "source": [
    "## Analyse par la méthode de Morris\n",
    "\n",
    "Le code est très rapide à faire tourner donc on a pas besoin de faire le problème adjoint. On va faire la méthode de Morris par Monte-Carlo Simple."
   ]
  },
  {
   "cell_type": "code",
   "execution_count": 59,
   "metadata": {},
   "outputs": [],
   "source": [
    "R = 1000 #R de Morris:\n",
    "M=200\n",
    "lambda_2 = 0.\n",
    "mini = np.array([0.4,0.05,0.01,0.1,0.1,0.2,8,15,10,2.9,0.01,1,10**(-4),1,32])\n",
    "delta = mini/1000 #delta adapté à la dimension étudiée\n",
    "dim = 15 #Nombre de paramètres d'entrée\n",
    "S_maxima = np.zeros((R,dim)) #on ve y stocker tous les indices de la méthode OAT\n",
    "S_date  = np.zeros((R,dim))\n",
    "\n",
    "#on tire R points selon les bonnes distributions:\n",
    "I = np.eye(dim)\n",
    "X = create_points(R)\n",
    "for d in range(dim):\n",
    "    e_d = I[d]\n",
    "    X_derived = X+delta[d]*e_d\n",
    "    U = solve(X,M)[6]\n",
    "    U_derived = solve(X_derived,M)[6]\n",
    "    U_max = np.max(U,axis=1)\n",
    "    U_derived_max = np.max(U_derived,axis=1)\n",
    "    S_maxima[:,d]=(U_derived_max-U_max)/delta[d]"
   ]
  },
  {
   "cell_type": "code",
   "execution_count": 60,
   "metadata": {},
   "outputs": [],
   "source": [
    "mu_maxima = np.sum(np.abs(S_maxima),axis = 0)/R\n",
    "mean_S = np.sum(S_maxima,axis = 0)/R\n",
    "sigma_maxima = np.sqrt((1./(R-1))*np.sum((S_maxima-mean_S)**2,axis =0))"
   ]
  },
  {
   "cell_type": "code",
   "execution_count": 61,
   "metadata": {},
   "outputs": [
    {
     "data": {
      "text/plain": [
       "array([1.35246100e+05, 1.41999474e+05, 1.33514978e+06, 9.36228390e-08,\n",
       "       1.26731222e+05, 1.69414092e-07, 2.27960009e+04, 4.98588937e+02,\n",
       "       2.53304698e+03, 1.02053012e+05, 4.82714938e+06, 7.93447113e+02,\n",
       "       1.84665440e+06, 3.83510582e+03, 3.65616792e+03])"
      ]
     },
     "execution_count": 61,
     "metadata": {},
     "output_type": "execute_result"
    }
   ],
   "source": [
    "sigma_maxima"
   ]
  },
  {
   "cell_type": "code",
   "execution_count": 62,
   "metadata": {},
   "outputs": [
    {
     "data": {
      "text/plain": [
       "array([5.63946568e+04, 5.55024218e+04, 5.19566791e+05, 1.53710533e-08,\n",
       "       4.72830143e+04, 4.03322024e-08, 1.10288836e+04, 1.72097542e+02,\n",
       "       9.93249732e+02, 5.15381966e+04, 1.87457831e+06, 2.48887397e+02,\n",
       "       9.41502423e+05, 1.93778047e+03, 1.85908361e+03])"
      ]
     },
     "execution_count": 62,
     "metadata": {},
     "output_type": "execute_result"
    }
   ],
   "source": [
    "mu_maxima"
   ]
  },
  {
   "cell_type": "markdown",
   "metadata": {},
   "source": [
    "L'analyse de sensibilité pour le maximum de patients en réanimation par la méthode de Morris nous montre que les paramètres : pHD et pUD appartiennent au groupe avec effets négligeables.\n",
    "Tous les autres paramètres appartiennent au groupe avec effets non-linéaires et/ou interactions."
   ]
  },
  {
   "cell_type": "markdown",
   "metadata": {},
   "source": [
    "## Analyse de Sensibilité par la méthode de Sobol"
   ]
  },
  {
   "cell_type": "markdown",
   "metadata": {},
   "source": [
    "### Indices de premier ordre\n",
    "Les indices de Sobol $S_i$ sont tels que \n",
    "$$S_i = \\frac{D_i}{D}=\\frac{Var(E[Y|X_i])}{Var(Y)}=\\frac{Cov(Y,Y_i)}{Var(Y)}$$"
   ]
  },
  {
   "cell_type": "code",
   "execution_count": 98,
   "metadata": {},
   "outputs": [],
   "source": [
    "N=1000\n",
    "dim =15\n",
    "S = np.zeros(dim) #indices simples\n",
    "S_T = np.zeros(dim) #indices totaux\n",
    "X=create_points(N)\n",
    "for d in range(dim):\n",
    "    X_tilde =create_points(N) #pour les indices simples\n",
    "    X_T = np.copy(X) #pour les indices totaux\n",
    "    X_T[:,d] = X_tilde[:,d]\n",
    "    X_tilde[:,d]=X[:,d]\n",
    "    Y = np.max(solve(X,200)[6],axis=1)\n",
    "    Y_tilde = np.max(solve(X_tilde,200)[6],axis=1)\n",
    "    Y_T = np.max(solve(X_T,200)[6],axis=1)\n",
    "    cov = np.cov(Y,Y_tilde)[0][1] #empirical covariance\n",
    "    var_Y = np.var(Y)\n",
    "    S[d]=cov/var_Y\n",
    "    S_T[d] = (1/N)*np.sum((Y-Y_T)**2)/(2*var_Y)"
   ]
  },
  {
   "cell_type": "code",
   "execution_count": 100,
   "metadata": {},
   "outputs": [
    {
     "data": {
      "text/plain": [
       "array([-0.0084731 ,  0.01397526, -0.0212665 , -0.00193137, -0.04291542,\n",
       "       -0.00148448,  0.02786192,  0.01177087, -0.00142629,  0.00524305,\n",
       "        0.26405203,  0.00221418,  0.03974249,  0.07661349,  0.00856883])"
      ]
     },
     "execution_count": 100,
     "metadata": {},
     "output_type": "execute_result"
    }
   ],
   "source": [
    "S"
   ]
  },
  {
   "cell_type": "code",
   "execution_count": 99,
   "metadata": {},
   "outputs": [
    {
     "data": {
      "text/plain": [
       "array([1.60181252e-01, 2.03588624e-02, 5.64698809e-02, 2.23611537e-32,\n",
       "       6.91069672e-03, 3.67831660e-31, 2.07313537e-01, 7.36821531e-04,\n",
       "       1.76593180e-02, 9.42235603e-02, 5.01036169e-01, 4.95917777e-02,\n",
       "       9.09126580e-05, 3.77051049e-01, 1.25617950e-01])"
      ]
     },
     "execution_count": 99,
     "metadata": {},
     "output_type": "execute_result"
    }
   ],
   "source": [
    "S_T"
   ]
  }
 ],
 "metadata": {
  "colab": {
   "collapsed_sections": [],
   "name": "MAP5568.ipynb",
   "provenance": []
  },
  "hide_input": false,
  "kernelspec": {
   "display_name": "Python 3",
   "language": "python",
   "name": "python3"
  },
  "language_info": {
   "codemirror_mode": {
    "name": "ipython",
    "version": 3
   },
   "file_extension": ".py",
   "mimetype": "text/x-python",
   "name": "python",
   "nbconvert_exporter": "python",
   "pygments_lexer": "ipython3",
   "version": "3.7.9"
  },
  "toc": {
   "base_numbering": 1,
   "nav_menu": {},
   "number_sections": true,
   "sideBar": true,
   "skip_h1_title": false,
   "title_cell": "Table of Contents",
   "title_sidebar": "Contents",
   "toc_cell": false,
   "toc_position": {},
   "toc_section_display": true,
   "toc_window_display": false
  }
 },
 "nbformat": 4,
 "nbformat_minor": 1
}
